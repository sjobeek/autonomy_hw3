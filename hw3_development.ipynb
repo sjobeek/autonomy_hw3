{
 "cells": [
  {
   "cell_type": "code",
   "execution_count": 215,
   "metadata": {
    "collapsed": false
   },
   "outputs": [
    {
     "name": "stdout",
     "output_type": "stream",
     "text": [
      "The autoreload extension is already loaded. To reload it, use:\n",
      "  %reload_ext autoreload\n"
     ]
    }
   ],
   "source": [
    "from __future__ import division\n",
    "%load_ext autoreload\n",
    "%autoreload 2\n",
    "import DiscreteEnvironment as de"
   ]
  },
  {
   "cell_type": "code",
   "execution_count": 249,
   "metadata": {
    "collapsed": false
   },
   "outputs": [
    {
     "name": "stdout",
     "output_type": "stream",
     "text": [
      "('the given continuous config is ', [1.2, 1.99, 1])\n",
      "('the new discrete coords is', [2, 3, 2])\n",
      "('coordinates are--->', [0, 1, 1])\n",
      "('configuration---->', [0.25, 0.75, 0.75])\n"
     ]
    },
    {
     "data": {
      "text/plain": [
       "[0.25, 0.75, 0.75]"
      ]
     },
     "execution_count": 249,
     "metadata": {},
     "output_type": "execute_result"
    }
   ],
   "source": [
    "obj = de.DiscreteEnvironment(0.5, [0,0,0],[3,3,3])\n",
    "obj.ConfigurationToGridCoord([1.2,1.99,1])\n",
    "obj.GridCoordToConfiguration([0,1,1])"
   ]
  },
  {
   "cell_type": "code",
   "execution_count": 252,
   "metadata": {
    "collapsed": false
   },
   "outputs": [
    {
     "data": {
      "text/plain": [
       "[1, 2, 3]"
      ]
     },
     "execution_count": 252,
     "metadata": {},
     "output_type": "execute_result"
    }
   ],
   "source": [
    "obj.NodeIdToConfiguration(121)"
   ]
  },
  {
   "cell_type": "code",
   "execution_count": 210,
   "metadata": {
    "collapsed": false
   },
   "outputs": [
    {
     "name": "stdout",
     "output_type": "stream",
     "text": [
      "('the given continuous config is ', [1.2, 3.6])\n",
      "('the new discrete coords is', [0.0, 0.0])\n",
      "('coordinates are--->', [1, 3])\n",
      "('configuration---->', [0.15000000000000002, 0.35000000000000003])\n"
     ]
    },
    {
     "data": {
      "text/plain": [
       "[0.15000000000000002, 0.35000000000000003]"
      ]
     },
     "execution_count": 210,
     "metadata": {},
     "output_type": "execute_result"
    }
   ],
   "source": [
    "obj = de.DiscreteEnvironment(0.1, [0,0],[4,4])\n",
    "obj.ConfigurationToGridCoord([1.2,3.6])\n",
    "obj.GridCoordToConfiguration([1,3])"
   ]
  },
  {
   "cell_type": "code",
   "execution_count": null,
   "metadata": {
    "collapsed": false
   },
   "outputs": [],
   "source": [
    "x + Nx*y\n",
    "x + Nx*y + Nx*Ny*z"
   ]
  },
  {
   "cell_type": "code",
   "execution_count": 233,
   "metadata": {
    "collapsed": false
   },
   "outputs": [
    {
     "data": {
      "text/plain": [
       "[(0, 9),\n",
       " (1, 8),\n",
       " (2, 7),\n",
       " (3, 6),\n",
       " (4, 5),\n",
       " (5, 4),\n",
       " (6, 3),\n",
       " (7, 2),\n",
       " (8, 1),\n",
       " (9, 0)]"
      ]
     },
     "execution_count": 233,
     "metadata": {},
     "output_type": "execute_result"
    }
   ],
   "source": [
    "[x for x in enumerate(reversed(range(10)))]"
   ]
  },
  {
   "cell_type": "code",
   "execution_count": 234,
   "metadata": {
    "collapsed": false
   },
   "outputs": [],
   "source": [
    "nid = 10\n",
    "nid %= 7"
   ]
  },
  {
   "cell_type": "code",
   "execution_count": 235,
   "metadata": {
    "collapsed": false
   },
   "outputs": [
    {
     "data": {
      "text/plain": [
       "3"
      ]
     },
     "execution_count": 235,
     "metadata": {},
     "output_type": "execute_result"
    }
   ],
   "source": [
    "nid"
   ]
  },
  {
   "cell_type": "code",
   "execution_count": 179,
   "metadata": {
    "collapsed": false
   },
   "outputs": [
    {
     "data": {
      "text/plain": [
       "48"
      ]
     },
     "execution_count": 179,
     "metadata": {},
     "output_type": "execute_result"
    }
   ],
   "source": [
    "resolution = 0.1\n",
    "lower_limits = [0,0]\n",
    "upper_limits = [4,4]\n",
    "dimension = 2\n",
    "dim_idx = 1\n",
    "\n",
    "coord = 1\n",
    "\n",
    "full_range = upper_limits[dim_idx] - lower_limits[dim_idx]\n",
    "delta_per_cell = (full_range / resolution)\n",
    "# config = (coord * delta_per_cell + delta_per_cell/2.0)\n",
    "config = int(coord * delta_per_cell)\n",
    "config"
   ]
  },
  {
   "cell_type": "code",
   "execution_count": 168,
   "metadata": {
    "collapsed": false
   },
   "outputs": [
    {
     "data": {
      "text/plain": [
       "0.1"
      ]
     },
     "execution_count": 168,
     "metadata": {},
     "output_type": "execute_result"
    }
   ],
   "source": [
    "config = 0.1\n",
    "\n",
    "coord = config/delta_per_cell\n",
    "coord\n"
   ]
  },
  {
   "cell_type": "code",
   "execution_count": null,
   "metadata": {
    "collapsed": true
   },
   "outputs": [],
   "source": [
    "0   1    2    3    4    5\n",
    " .4"
   ]
  },
  {
   "cell_type": "code",
   "execution_count": 120,
   "metadata": {
    "collapsed": false
   },
   "outputs": [
    {
     "data": {
      "text/plain": [
       "0.75"
      ]
     },
     "execution_count": 120,
     "metadata": {},
     "output_type": "execute_result"
    }
   ],
   "source": [
    "index = 1\n"
   ]
  },
  {
   "cell_type": "code",
   "execution_count": 177,
   "metadata": {
    "collapsed": false
   },
   "outputs": [
    {
     "data": {
      "text/plain": [
       "50.0"
      ]
     },
     "execution_count": 177,
     "metadata": {},
     "output_type": "execute_result"
    }
   ],
   "source": [
    "5/(1/10)\n"
   ]
  }
 ],
 "metadata": {
  "kernelspec": {
   "display_name": "Python 2",
   "language": "python",
   "name": "python2"
  },
  "language_info": {
   "codemirror_mode": {
    "name": "ipython",
    "version": 2
   },
   "file_extension": ".py",
   "mimetype": "text/x-python",
   "name": "python",
   "nbconvert_exporter": "python",
   "pygments_lexer": "ipython2",
   "version": "2.7.6"
  }
 },
 "nbformat": 4,
 "nbformat_minor": 0
}
